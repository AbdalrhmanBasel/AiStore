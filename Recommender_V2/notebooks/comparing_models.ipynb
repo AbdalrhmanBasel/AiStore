{
 "cells": [
  {
   "cell_type": "code",
   "execution_count": null,
   "id": "de675851",
   "metadata": {},
   "outputs": [],
   "source": [
    "cd .."
   ]
  },
  {
   "cell_type": "code",
   "execution_count": null,
   "id": "14e555fb",
   "metadata": {},
   "outputs": [],
   "source": [
    "import os\n",
    "import sys\n",
    "import pandas as pd\n",
    "NOTEBOOK_DIR = os.getcwd() \n",
    "PROJECT_ROOT = os.path.abspath(os.path.join(NOTEBOOK_DIR, \"../../\"))  \n",
    "\n",
    "# Add the project root to sys.path\n",
    "sys.path.append(PROJECT_ROOT)\n",
    "\n",
    "from srcs.utils.settings import (\n",
    "    CLEANED_METADATA_PATH_CSV, CLEANED_REVIEWS_PATH_CSV, FULL_GRAPH_PATH,\n",
    "    TRAIN_GRAPH_PATH, VAL_GRAPH_PATH, TEST_GRAPH_PATH, PROCESSED_REVIEWS_TABULAR_DATA,\n",
    "    PROCESSED_META_TABULAR_DATA\n",
    ")\n"
   ]
  }
 ],
 "metadata": {
  "language_info": {
   "name": "python"
  }
 },
 "nbformat": 4,
 "nbformat_minor": 5
}
