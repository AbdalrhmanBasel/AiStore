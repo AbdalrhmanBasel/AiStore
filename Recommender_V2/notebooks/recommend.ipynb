{
 "cells": [
  {
   "cell_type": "code",
   "execution_count": 1,
   "id": "53039982",
   "metadata": {},
   "outputs": [
    {
     "name": "stdout",
     "output_type": "stream",
     "text": [
      "/home/abdalrhman/Desktop/Graduation Project/AiStore/Recommender_V2\n"
     ]
    }
   ],
   "source": [
    "cd .."
   ]
  },
  {
   "cell_type": "code",
   "execution_count": 2,
   "id": "b3280433",
   "metadata": {},
   "outputs": [],
   "source": [
    "import torch\n",
    "import numpy as np\n",
    "import pandas as pd\n",
    "import os\n",
    "import json\n",
    "import joblib\n",
    "import matplotlib.pyplot as plt\n",
    "import sys \n",
    "\n",
    "from sklearn.preprocessing import LabelEncoder, StandardScaler, OneHotEncoder\n",
    "from sklearn.compose import ColumnTransformer\n",
    "from sklearn.pipeline import Pipeline\n",
    "from sklearn.impute import SimpleImputer\n",
    "from sklearn.metrics import (\n",
    "    roc_auc_score, \n",
    "    precision_recall_curve, \n",
    "    f1_score, \n",
    "    precision_score, \n",
    "    recall_score, \n",
    "    auc\n",
    ")\n",
    "from torch_geometric.data import HeteroData\n",
    "from torch_geometric.transforms import RandomLinkSplit\n",
    "from torch_geometric.nn import SAGEConv, HeteroConv, Linear\n",
    "import torch.nn as nn\n",
    "import torch.nn.functional as F\n",
    "import torch.optim as optim\n",
    "from torch.optim.lr_scheduler import ReduceLROnPlateau\n",
    "from settings import (\n",
    "    META_DATA_PATH,\n",
    "    REVIEWS_DATA_PATH,\n",
    "    GRAPH_FULL_PATH,\n",
    "    GRAPH_TRAIN_PATH,\n",
    "    GRAPH_VAL_PATH,\n",
    "    GRAPH_TEST_PATH,\n",
    "    IMAGES_DIR,\n",
    "    ENCODER_USER,\n",
    "    ENCODER_ITEM, \n",
    "    ENCODER_CATEGORY,\n",
    "    ENCODER_SCALER,\n",
    "    MAPPING_USER_T0_ID_PATH,\n",
    "    MAPPING_ITEM_ASIN_TO_ID_PATH,\n",
    "    PREDICTOR_MODEL_SAVE_PATH,\n",
    "    CLEANED_META_DATA_PATH,\n",
    "    MAPPIN_ID_TO_ASIN_ITEM_PATH, \n",
    "    GNN_MODEL_SAVE_PATH,\n",
    "    ENCODER_BRAND,\n",
    "    ENCODER_COLOR,\n",
    "    ITEM_FEATURE_PREPROCESSOR,\n",
    "\n",
    ")\n",
    "\n",
    "# Configure paths\n",
    "NOTEBOOK_DIR = os.getcwd()\n",
    "PROJECT_ROOT = os.path.abspath(os.path.join(NOTEBOOK_DIR, os.pardir, os.pardir))\n",
    "sys.path.append(PROJECT_ROOT)\n",
    "\n",
    "\n",
    "device = torch.device('cuda' if torch.cuda.is_available() else 'cpu')"
   ]
  },
  {
   "cell_type": "markdown",
   "id": "c9df24a6",
   "metadata": {},
   "source": [
    "# 🧮 1. Data Encoding and Mapping\n"
   ]
  },
  {
   "cell_type": "code",
   "execution_count": 3,
   "id": "7bb2e56c",
   "metadata": {},
   "outputs": [],
   "source": [
    "# Load datasets\n",
    "meta_df = pd.read_csv(META_DATA_PATH)\n",
    "reviews_df = pd.read_csv(REVIEWS_DATA_PATH)\n",
    "\n",
    "# Sample reviews for consistency\n",
    "reviews_df = reviews_df.sample(n=13000, random_state=42)\n",
    "filtered_item_ids = reviews_df['parent_asin'].unique()\n",
    "filtered_meta_df = meta_df[meta_df['parent_asin'].isin(filtered_item_ids)]\n",
    "\n",
    "# Encode user/item IDs\n",
    "user_encoder = LabelEncoder()\n",
    "item_encoder = LabelEncoder()\n",
    "\n",
    "# Encode and map\n",
    "reviews_df['user_idx'] = user_encoder.fit_transform(reviews_df['user_id'])\n",
    "reviews_df['item_idx'] = item_encoder.fit_transform(reviews_df['parent_asin'])\n",
    "\n",
    "# Save encoders\n",
    "joblib.dump(user_encoder, ENCODER_USER)\n",
    "joblib.dump(item_encoder, ENCODER_ITEM)\n",
    "\n",
    "# Build and save mappings\n",
    "user_id_map = dict(zip(reviews_df['user_id'], reviews_df['user_idx']))\n",
    "item_id_map = dict(zip(reviews_df['parent_asin'], reviews_df['item_idx']))\n",
    "\n",
    "# Save user/item mappings\n",
    "with open(MAPPING_USER_T0_ID_PATH, 'w') as f:\n",
    "    json.dump({str(k): int(v) for k, v in user_id_map.items()}, f)\n",
    "\n",
    "with open(MAPPING_ITEM_ASIN_TO_ID_PATH, 'w') as f:\n",
    "    json.dump({str(k): int(v) for k, v in item_id_map.items()}, f)\n",
    "\n",
    "# Build reverse mapping\n",
    "id_to_item = {int(v): k for k, v in item_id_map.items()}\n",
    "with open(MAPPIN_ID_TO_ASIN_ITEM_PATH, 'w') as f:\n",
    "    json.dump(id_to_item, f)"
   ]
  },
  {
   "cell_type": "code",
   "execution_count": 4,
   "id": "8a7b0b20",
   "metadata": {},
   "outputs": [],
   "source": [
    "# Build and save mappings\n",
    "user_id_map = dict(zip(reviews_df['user_id'], reviews_df['user_idx']))\n",
    "item_id_map = dict(zip(reviews_df['parent_asin'], reviews_df['item_idx']))\n",
    "\n",
    "# Save user/item mappings\n",
    "with open(MAPPING_USER_T0_ID_PATH, 'w') as f:\n",
    "    json.dump({str(k): int(v) for k, v in user_id_map.items()}, f)\n",
    "\n",
    "with open(MAPPING_ITEM_ASIN_TO_ID_PATH, 'w') as f:\n",
    "    json.dump({str(k): int(v) for k, v in item_id_map.items()}, f)\n",
    "\n",
    "# Build reverse mapping\n",
    "id_to_item = {int(v): k for k, v in item_id_map.items()}\n",
    "with open(MAPPIN_ID_TO_ASIN_ITEM_PATH, 'w') as f:\n",
    "    json.dump(id_to_item, f)"
   ]
  },
  {
   "cell_type": "code",
   "execution_count": 5,
   "id": "2c8fae4c",
   "metadata": {},
   "outputs": [
    {
     "data": {
      "text/plain": [
       "((801, 15), (10498,), (13000, 13))"
      ]
     },
     "execution_count": 5,
     "metadata": {},
     "output_type": "execute_result"
    }
   ],
   "source": [
    "filtered_meta_df.shape, filtered_item_ids.shape, reviews_df.shape"
   ]
  },
  {
   "cell_type": "code",
   "execution_count": 6,
   "id": "7a2af85c",
   "metadata": {},
   "outputs": [
    {
     "data": {
      "text/html": [
       "<div>\n",
       "<style scoped>\n",
       "    .dataframe tbody tr th:only-of-type {\n",
       "        vertical-align: middle;\n",
       "    }\n",
       "\n",
       "    .dataframe tbody tr th {\n",
       "        vertical-align: top;\n",
       "    }\n",
       "\n",
       "    .dataframe thead th {\n",
       "        text-align: right;\n",
       "    }\n",
       "</style>\n",
       "<table border=\"1\" class=\"dataframe\">\n",
       "  <thead>\n",
       "    <tr style=\"text-align: right;\">\n",
       "      <th></th>\n",
       "      <th>main_category</th>\n",
       "      <th>title</th>\n",
       "      <th>average_rating</th>\n",
       "      <th>rating_number</th>\n",
       "      <th>price</th>\n",
       "      <th>store</th>\n",
       "      <th>parent_asin</th>\n",
       "      <th>n_features</th>\n",
       "      <th>n_description_items</th>\n",
       "      <th>first_image</th>\n",
       "      <th>brand</th>\n",
       "      <th>color</th>\n",
       "      <th>date_first_available</th>\n",
       "      <th>primary_category</th>\n",
       "      <th>rating_bin</th>\n",
       "    </tr>\n",
       "  </thead>\n",
       "  <tbody>\n",
       "    <tr>\n",
       "      <th>15</th>\n",
       "      <td>Amazon Fashion</td>\n",
       "      <td>13-15.6 Inch Laptop Sleeve Case Women Men Shou...</td>\n",
       "      <td>4.6</td>\n",
       "      <td>354</td>\n",
       "      <td>14.88</td>\n",
       "      <td>Dealcase</td>\n",
       "      <td>B07DYJR44S</td>\n",
       "      <td>6</td>\n",
       "      <td>16</td>\n",
       "      <td>https://m.media-amazon.com/images/I/41RBgBZC0K...</td>\n",
       "      <td>Unknown</td>\n",
       "      <td>Unknown</td>\n",
       "      <td>2018-06-22</td>\n",
       "      <td>Electronics</td>\n",
       "      <td>High</td>\n",
       "    </tr>\n",
       "    <tr>\n",
       "      <th>21</th>\n",
       "      <td>Computers</td>\n",
       "      <td>KHOMO - iPad 2 3 and 4 Generation Case - DUAL ...</td>\n",
       "      <td>4.5</td>\n",
       "      <td>2745</td>\n",
       "      <td>11.95</td>\n",
       "      <td>Khomo</td>\n",
       "      <td>B06XKRXLDR</td>\n",
       "      <td>5</td>\n",
       "      <td>1</td>\n",
       "      <td>https://m.media-amazon.com/images/I/31+mP+y8Uo...</td>\n",
       "      <td>Khomo</td>\n",
       "      <td>Black</td>\n",
       "      <td>2011-05-13</td>\n",
       "      <td>Electronics</td>\n",
       "      <td>Medium</td>\n",
       "    </tr>\n",
       "    <tr>\n",
       "      <th>33</th>\n",
       "      <td>Computers</td>\n",
       "      <td>Intel Dual Band Wireless-Ac 8265 w/Bluetooth 8...</td>\n",
       "      <td>4.6</td>\n",
       "      <td>618</td>\n",
       "      <td>20.00</td>\n",
       "      <td>Intel</td>\n",
       "      <td>B01MZA1AB2</td>\n",
       "      <td>4</td>\n",
       "      <td>1</td>\n",
       "      <td>https://m.media-amazon.com/images/I/51DuEWGzGB...</td>\n",
       "      <td>Intel</td>\n",
       "      <td>Brown</td>\n",
       "      <td>2017-01-14</td>\n",
       "      <td>Electronics</td>\n",
       "      <td>High</td>\n",
       "    </tr>\n",
       "    <tr>\n",
       "      <th>35</th>\n",
       "      <td>All Electronics</td>\n",
       "      <td>Charger for MacBook Pro 10FT, 96W USB C Charge...</td>\n",
       "      <td>4.5</td>\n",
       "      <td>2141</td>\n",
       "      <td>35.99</td>\n",
       "      <td>Ifeart</td>\n",
       "      <td>B07WZT643Q</td>\n",
       "      <td>5</td>\n",
       "      <td>0</td>\n",
       "      <td>https://m.media-amazon.com/images/I/21QlbdFXAG...</td>\n",
       "      <td>Ifeart</td>\n",
       "      <td>White</td>\n",
       "      <td>2019-09-23</td>\n",
       "      <td>Electronics</td>\n",
       "      <td>Medium</td>\n",
       "    </tr>\n",
       "    <tr>\n",
       "      <th>66</th>\n",
       "      <td>Home Audio &amp; Theater</td>\n",
       "      <td>C&amp;E High Speed HDMI Cable with Ethernet Black,...</td>\n",
       "      <td>4.6</td>\n",
       "      <td>531</td>\n",
       "      <td>8.99</td>\n",
       "      <td>C&amp;E</td>\n",
       "      <td>B07Q1JN792</td>\n",
       "      <td>5</td>\n",
       "      <td>16</td>\n",
       "      <td>https://m.media-amazon.com/images/I/41IfnleVoM...</td>\n",
       "      <td>C&amp;E</td>\n",
       "      <td>1 Pack</td>\n",
       "      <td>2015-01-21</td>\n",
       "      <td>Electronics</td>\n",
       "      <td>High</td>\n",
       "    </tr>\n",
       "  </tbody>\n",
       "</table>\n",
       "</div>"
      ],
      "text/plain": [
       "           main_category                                              title  \\\n",
       "15        Amazon Fashion  13-15.6 Inch Laptop Sleeve Case Women Men Shou...   \n",
       "21             Computers  KHOMO - iPad 2 3 and 4 Generation Case - DUAL ...   \n",
       "33             Computers  Intel Dual Band Wireless-Ac 8265 w/Bluetooth 8...   \n",
       "35       All Electronics  Charger for MacBook Pro 10FT, 96W USB C Charge...   \n",
       "66  Home Audio & Theater  C&E High Speed HDMI Cable with Ethernet Black,...   \n",
       "\n",
       "    average_rating  rating_number  price     store parent_asin  n_features  \\\n",
       "15             4.6            354  14.88  Dealcase  B07DYJR44S           6   \n",
       "21             4.5           2745  11.95     Khomo  B06XKRXLDR           5   \n",
       "33             4.6            618  20.00     Intel  B01MZA1AB2           4   \n",
       "35             4.5           2141  35.99    Ifeart  B07WZT643Q           5   \n",
       "66             4.6            531   8.99       C&E  B07Q1JN792           5   \n",
       "\n",
       "    n_description_items                                        first_image  \\\n",
       "15                   16  https://m.media-amazon.com/images/I/41RBgBZC0K...   \n",
       "21                    1  https://m.media-amazon.com/images/I/31+mP+y8Uo...   \n",
       "33                    1  https://m.media-amazon.com/images/I/51DuEWGzGB...   \n",
       "35                    0  https://m.media-amazon.com/images/I/21QlbdFXAG...   \n",
       "66                   16  https://m.media-amazon.com/images/I/41IfnleVoM...   \n",
       "\n",
       "      brand    color date_first_available primary_category rating_bin  \n",
       "15  Unknown  Unknown           2018-06-22      Electronics       High  \n",
       "21    Khomo    Black           2011-05-13      Electronics     Medium  \n",
       "33    Intel    Brown           2017-01-14      Electronics       High  \n",
       "35   Ifeart    White           2019-09-23      Electronics     Medium  \n",
       "66      C&E   1 Pack           2015-01-21      Electronics       High  "
      ]
     },
     "execution_count": 6,
     "metadata": {},
     "output_type": "execute_result"
    }
   ],
   "source": [
    "filtered_meta_df.head(5)"
   ]
  },
  {
   "cell_type": "markdown",
   "id": "f1227de4",
   "metadata": {},
   "source": [
    "# 📦 2. Feature Engineering and Graph Construction"
   ]
  },
  {
   "cell_type": "code",
   "execution_count": 7,
   "id": "03d57b3f",
   "metadata": {},
   "outputs": [
    {
     "name": "stdout",
     "output_type": "stream",
     "text": [
      "Raw item features shape: (13513, 8611)\n",
      "Successfully mapped 801/10498 item features\n"
     ]
    }
   ],
   "source": [
    "# Define feature groups\n",
    "numerical_features = ['price', 'average_rating', 'rating_number', 'n_features', 'n_description_items']\n",
    "categorical_features = ['main_category', 'brand', 'color']\n",
    "\n",
    "# Build preprocessing pipeline\n",
    "preprocessor = ColumnTransformer(\n",
    "    transformers=[\n",
    "        ('num', Pipeline([\n",
    "            ('imputer', SimpleImputer(strategy='median')),\n",
    "            ('scaler', StandardScaler())\n",
    "        ]), numerical_features),\n",
    "        ('cat', Pipeline([\n",
    "            ('imputer', SimpleImputer(strategy='most_frequent')),\n",
    "            ('encoder', OneHotEncoder(handle_unknown='ignore', sparse_output=True))\n",
    "        ]), categorical_features)\n",
    "    ],\n",
    "    remainder='drop',\n",
    "    sparse_threshold=0\n",
    ")\n",
    "\n",
    "# Fit on available meta_df data\n",
    "meta_df_clean = meta_df.drop_duplicates('parent_asin')\n",
    "meta_features = preprocessor.fit_transform(meta_df_clean[numerical_features + categorical_features])\n",
    "print(f\"Raw item features shape: {meta_features.shape}\")\n",
    "\n",
    "# Convert to tensor\n",
    "if hasattr(meta_features, 'toarray'):\n",
    "    meta_array = meta_features.toarray()\n",
    "else:\n",
    "    meta_array = meta_features\n",
    "\n",
    "meta_tensor = torch.tensor(meta_array.astype(np.float32), dtype=torch.float32)\n",
    "\n",
    "# Build full item features\n",
    "num_items = reviews_df['item_idx'].nunique()  # Should be 960\n",
    "feature_dim = 64\n",
    "\n",
    "# Start with zero-initialized features for all items\n",
    "item_features = torch.zeros(num_items, feature_dim)\n",
    "\n",
    "# Create projection layer if needed\n",
    "if meta_tensor.size(1) != feature_dim:\n",
    "    projection_layer = torch.nn.Linear(meta_tensor.size(1), feature_dim)\n",
    "    projected_meta = projection_layer(meta_tensor)  # Now [76, 64]\n",
    "else:\n",
    "    projected_meta = meta_tensor\n",
    "\n",
    "# Map meta_df features to item indices\n",
    "valid_count = 0\n",
    "for asin, idx in item_id_map.items():\n",
    "    if asin in meta_df_clean['parent_asin'].values:\n",
    "        try:\n",
    "            row_idx = meta_df_clean[meta_df_clean['parent_asin'] == asin].index[0]\n",
    "            item_features[idx] = projected_meta[row_idx]\n",
    "            valid_count += 1\n",
    "        except IndexError:\n",
    "            continue\n",
    "\n",
    "print(f\"Successfully mapped {valid_count}/{num_items} item features\")"
   ]
  },
  {
   "cell_type": "code",
   "execution_count": 8,
   "id": "daf2d377",
   "metadata": {},
   "outputs": [
    {
     "name": "stdout",
     "output_type": "stream",
     "text": [
      "Final item features shape: torch.Size([10498, 64])\n",
      "Graph: HeteroData(\n",
      "  user={ x=[12890, 64] },\n",
      "  item={ x=[10498, 64] },\n",
      "  (user, rates, item)={\n",
      "    edge_index=[2, 13000],\n",
      "    edge_weight=[13000],\n",
      "  },\n",
      "  (item, rev_rates, user)={\n",
      "    edge_index=[2, 13000],\n",
      "    edge_weight=[13000],\n",
      "  }\n",
      ")\n"
     ]
    },
    {
     "name": "stderr",
     "output_type": "stream",
     "text": [
      "/tmp/ipykernel_104529/4206286228.py:2: UserWarning: Creating a tensor from a list of numpy.ndarrays is extremely slow. Please consider converting the list to a single numpy.ndarray with numpy.array() before converting to a tensor. (Triggered internally at /pytorch/torch/csrc/utils/tensor_new.cpp:254.)\n",
      "  edge_index = torch.tensor([\n"
     ]
    }
   ],
   "source": [
    "# Build edge index\n",
    "edge_index = torch.tensor([\n",
    "    reviews_df['user_idx'].values,\n",
    "    reviews_df['item_idx'].values\n",
    "], dtype=torch.long)\n",
    "\n",
    "ratings = torch.tensor(reviews_df['rating'].values, dtype=torch.float)\n",
    "\n",
    "# Build HeteroData object\n",
    "data = HeteroData()\n",
    "data['user'].x = torch.randn(reviews_df['user_idx'].nunique(), feature_dim)\n",
    "data['item'].x = item_features  # Now shape [960, 64]\n",
    "data['user', 'rates', 'item'].edge_index = edge_index\n",
    "data['user', 'rates', 'item'].edge_weight = ratings\n",
    "data['item', 'rev_rates', 'user'].edge_index = edge_index.flip(0)\n",
    "data['item', 'rev_rates', 'user'].edge_weight = ratings\n",
    "\n",
    "print(f\"Final item features shape: {data['item'].x.shape}\")\n",
    "print(f\"Graph: {data}\")"
   ]
  },
  {
   "cell_type": "code",
   "execution_count": 9,
   "id": "7c240d43",
   "metadata": {},
   "outputs": [],
   "source": [
    "# Must be defined before training\n",
    "num_items = reviews_df['item_idx'].nunique()  # Should be 960\n",
    "feature_dim = 64  # Final feature dimension\n",
    "\n",
    "# Build full item features (ensure all 960 items have features)\n",
    "item_features = torch.randn(num_items, feature_dim)  # Start with random features\n",
    "\n",
    "# Replace with real features where available\n",
    "for asin, idx in item_id_map.items():\n",
    "    if asin in meta_df['parent_asin'].values:\n",
    "        try:\n",
    "            features = meta_df[meta_df['parent_asin'] == asin].iloc[0].values  # Example feature\n",
    "            item_features[idx] = torch.tensor(features.astype(np.float32))\n",
    "        except Exception:\n",
    "            continue\n",
    "\n",
    "# Assign to graph\n",
    "data['item'].x = item_features.to(device)"
   ]
  },
  {
   "cell_type": "markdown",
   "id": "790188bc",
   "metadata": {},
   "source": [
    "# 🔀 3. Graph Splitting and Saving"
   ]
  },
  {
   "cell_type": "code",
   "execution_count": 10,
   "id": "d6293ae3",
   "metadata": {},
   "outputs": [
    {
     "name": "stdout",
     "output_type": "stream",
     "text": [
      "Graphs saved successfully.\n"
     ]
    }
   ],
   "source": [
    "# Apply RandomLinkSplit\n",
    "transform = RandomLinkSplit(\n",
    "    num_val=0.1,\n",
    "    num_test=0.1,\n",
    "    is_undirected=True,\n",
    "    add_negative_train_samples=False,\n",
    "    edge_types=[('user', 'rates', 'item')],\n",
    "    rev_edge_types=[('item', 'rev_rates', 'user')]\n",
    ")\n",
    "\n",
    "train_data, val_data, test_data = transform(data)\n",
    "\n",
    "# Save graphs\n",
    "torch.save(data, GRAPH_FULL_PATH)\n",
    "torch.save(train_data, GRAPH_TRAIN_PATH)\n",
    "torch.save(val_data, GRAPH_VAL_PATH)\n",
    "torch.save(test_data, GRAPH_TEST_PATH)\n",
    "\n",
    "print(\"Graphs saved successfully.\")"
   ]
  },
  {
   "cell_type": "markdown",
   "id": "ced94cdd",
   "metadata": {},
   "source": [
    "# 🧱 4. Model Definition"
   ]
  },
  {
   "cell_type": "code",
   "execution_count": 11,
   "id": "996bb4ab",
   "metadata": {},
   "outputs": [],
   "source": [
    "class HeteroGraphSAGE(nn.Module):\n",
    "    def __init__(self, hidden_dim=128):\n",
    "        super().__init__()\n",
    "        self.conv1 = HeteroConv({\n",
    "            ('user', 'rates', 'item'): SAGEConv((-1, -1), hidden_dim),\n",
    "            ('item', 'rev_rates', 'user'): SAGEConv((-1, -1), hidden_dim)\n",
    "        }, aggr='mean')\n",
    "        \n",
    "        self.conv2 = HeteroConv({\n",
    "            ('user', 'rates', 'item'): SAGEConv(hidden_dim, hidden_dim),\n",
    "            ('item', 'rev_rates', 'user'): SAGEConv(hidden_dim, hidden_dim)\n",
    "        }, aggr='mean')\n",
    "        \n",
    "        self.bn1 = nn.BatchNorm1d(hidden_dim)\n",
    "        self.bn2 = nn.BatchNorm1d(hidden_dim)\n",
    "        self.dropout = nn.Dropout(0.5)\n",
    "\n",
    "    def forward(self, x_dict, edge_index_dict):\n",
    "        # First conv layer\n",
    "        x_dict = self.conv1(x_dict, edge_index_dict)\n",
    "        x_dict = {key: self.bn1(x) for key, x in x_dict.items()}\n",
    "        x_dict = {key: F.leaky_relu(x) for key, x in x_dict.items()}\n",
    "        x_dict = {key: self.dropout(x) for key, x in x_dict.items()}\n",
    "        \n",
    "        # Second conv layer\n",
    "        x_dict = self.conv2(x_dict, edge_index_dict)\n",
    "        x_dict = {key: self.bn2(x) for key, x in x_dict.items()}\n",
    "        return x_dict\n",
    "\n",
    "class LinkPredictor(nn.Module):\n",
    "    def __init__(self, hidden_dim=128):\n",
    "        super().__init__()\n",
    "        self.mlp = nn.Sequential(\n",
    "            Linear(hidden_dim * 2, hidden_dim),\n",
    "            nn.ReLU(),\n",
    "            nn.Dropout(0.3),\n",
    "            Linear(hidden_dim, 1)\n",
    "        )\n",
    "\n",
    "    def forward(self, src, dst):\n",
    "        return self.mlp(torch.cat([src, dst], dim=-1)).squeeze()"
   ]
  },
  {
   "cell_type": "markdown",
   "id": "44fe84b3",
   "metadata": {},
   "source": [
    "# 🔧 5. Training Setup"
   ]
  },
  {
   "cell_type": "code",
   "execution_count": 12,
   "id": "d7989c82",
   "metadata": {},
   "outputs": [
    {
     "name": "stderr",
     "output_type": "stream",
     "text": [
      "/home/abdalrhman/Desktop/Graduation Project/AiStore/venv/lib/python3.12/site-packages/torch/optim/lr_scheduler.py:62: UserWarning: The verbose parameter is deprecated. Please use get_last_lr() to access the learning rate.\n",
      "  warnings.warn(\n"
     ]
    }
   ],
   "source": [
    "# Move data to device\n",
    "train_data, val_data, test_data = [d.to(device) for d in [train_data, val_data, test_data]]\n",
    "\n",
    "# Initialize models\n",
    "gnn = HeteroGraphSAGE(hidden_dim=128).to(device)\n",
    "predictor = LinkPredictor(hidden_dim=128).to(device)\n",
    "\n",
    "# Optimizer and scheduler\n",
    "optimizer = optim.AdamW([\n",
    "    {'params': gnn.parameters(), 'lr': 1e-3},\n",
    "    {'params': predictor.parameters(), 'lr': 5e-4}\n",
    "], weight_decay=1e-5)\n",
    "\n",
    "scheduler = ReduceLROnPlateau(\n",
    "    optimizer, mode='max', factor=0.5, patience=5, verbose=True\n",
    ")\n",
    "\n",
    "# Load item_id_map for negative sampling\n",
    "def load_mapping(path):\n",
    "    with open(path, 'r') as f:\n",
    "        return json.load(f)\n",
    "\n",
    "item_id_map = load_mapping(MAPPING_ITEM_ASIN_TO_ID_PATH)\n",
    "num_items = len(item_id_map)  # 960"
   ]
  },
  {
   "cell_type": "markdown",
   "id": "1de93995",
   "metadata": {},
   "source": [
    "# 🧪 6. Training Functions"
   ]
  },
  {
   "cell_type": "code",
   "execution_count": 13,
   "id": "af4a4955",
   "metadata": {},
   "outputs": [],
   "source": [
    "def train_epoch(data, neg_ratio=5):\n",
    "    gnn.train()\n",
    "    predictor.train()\n",
    "    optimizer.zero_grad()\n",
    "\n",
    "    # Forward pass\n",
    "    emb = gnn(data.x_dict, data.edge_index_dict)\n",
    "\n",
    "    # Get positive edges\n",
    "    edge_index = data['user', 'rates', 'item'].edge_index\n",
    "    src, dst = edge_index[0], edge_index[1]\n",
    "    pos_pred = predictor(emb['user'][src], emb['item'][dst])\n",
    "\n",
    "    # Generate negatives safely\n",
    "    neg_src, neg_dst = [], []\n",
    "    for u in src.unique().cpu().tolist():\n",
    "        seen = dst[src == u]\n",
    "        candidates = torch.randint(0, num_items, (len(seen)*neg_ratio,), device=device)\n",
    "        valid = ~torch.isin(candidates, seen)\n",
    "        sampled = candidates[valid][:len(seen)]\n",
    "        if len(sampled) > 0:\n",
    "            neg_src.append(torch.tensor([u]*len(sampled), device=device))\n",
    "            neg_dst.append(sampled)\n",
    "\n",
    "    if not neg_src:\n",
    "        return 0.0\n",
    "\n",
    "    # Get negative predictions\n",
    "    neg_pred = predictor(\n",
    "        emb['user'][torch.cat(neg_src)],\n",
    "        emb['item'][torch.cat(neg_dst)]\n",
    "    )\n",
    "\n",
    "    # Combine and compute loss\n",
    "    loss = F.binary_cross_entropy_with_logits(\n",
    "        torch.cat([pos_pred, neg_pred]),\n",
    "        torch.cat([\n",
    "            torch.ones_like(pos_pred),\n",
    "            torch.zeros_like(neg_pred)\n",
    "        ])\n",
    "    )\n",
    "\n",
    "    # Backward pass\n",
    "    loss.backward()\n",
    "    optimizer.step()\n",
    "    return loss.item()"
   ]
  },
  {
   "cell_type": "code",
   "execution_count": 14,
   "id": "28b369ab",
   "metadata": {},
   "outputs": [],
   "source": [
    "@torch.no_grad()\n",
    "def evaluate(data):\n",
    "    gnn.eval()\n",
    "    predictor.eval()\n",
    "    \n",
    "    # Forward pass\n",
    "    emb = gnn(data.x_dict, data.edge_index_dict)\n",
    "    \n",
    "    # Positive predictions\n",
    "    edge_index = data['user', 'rates', 'item'].edge_index\n",
    "    src, dst = edge_index[0], edge_index[1]\n",
    "    pos_pred = predictor(emb['user'][src], emb['item'][dst])\n",
    "    pos_labels = torch.ones(len(pos_pred))\n",
    "\n",
    "    # Negative sampling\n",
    "    neg_src, neg_dst = [], []\n",
    "    for u in src.unique().cpu().tolist():\n",
    "        seen = dst[src == u]\n",
    "        candidates = torch.randint(0, num_items, (len(seen)*5,), device=seen.device)\n",
    "        valid = ~torch.isin(candidates, seen)\n",
    "        sampled = candidates[valid][:len(seen)]\n",
    "        if len(sampled) > 0:\n",
    "            neg_src.append(torch.tensor([u]*len(sampled), device=device))\n",
    "            neg_dst.append(sampled)\n",
    "\n",
    "    if not neg_src:\n",
    "        return {\n",
    "            'auc': 0.5, 'f1': 0.0,\n",
    "            'precision': 0.0, 'recall': 0.0,\n",
    "            'threshold': 0.5\n",
    "        }\n",
    "\n",
    "    # Get negative predictions\n",
    "    neg_pred = predictor(\n",
    "        emb['user'][torch.cat(neg_src)],\n",
    "        emb['item'][torch.cat(neg_dst)]\n",
    "    )\n",
    "    neg_labels = torch.zeros(len(neg_pred))\n",
    "\n",
    "    # Combine and compute metrics\n",
    "    scores = torch.cat([pos_pred, neg_pred]).cpu().numpy()\n",
    "    labels = torch.cat([pos_labels, neg_labels]).cpu().numpy()\n",
    "\n",
    "    # AUC and thresholding\n",
    "    auc = roc_auc_score(labels, scores)\n",
    "    precisions, recalls, thresholds = precision_recall_curve(labels, scores)\n",
    "    f1_scores = 2 * (precisions * recalls) / (precisions + recalls + 1e-8)\n",
    "    best_idx = np.argmax(f1_scores)\n",
    "\n",
    "    return {\n",
    "        'auc': auc,\n",
    "        'precision': precisions[best_idx],\n",
    "        'recall': recalls[best_idx],\n",
    "        'f1': f1_scores[best_idx],\n",
    "        'threshold': thresholds[best_idx]\n",
    "    }"
   ]
  },
  {
   "cell_type": "markdown",
   "id": "b35f77af",
   "metadata": {},
   "source": [
    "# 🚀 7. Model Training with Early Stopping"
   ]
  },
  {
   "cell_type": "code",
   "execution_count": 15,
   "id": "4fa15a3a",
   "metadata": {},
   "outputs": [
    {
     "name": "stdout",
     "output_type": "stream",
     "text": [
      "Epoch 001 | Loss: 0.6975 | Val AUC: 0.6011 | F1: 0.6719 | Prec: 0.5159 | Rec: 0.9628 | Threshold: 0.0107\n",
      "Epoch 002 | Loss: 0.6856 | Val AUC: 0.6675 | F1: 0.7007 | Prec: 0.5712 | Rec: 0.9062 | Threshold: 0.1288\n",
      "Epoch 003 | Loss: 0.6749 | Val AUC: 0.7152 | F1: 0.7224 | Prec: 0.5797 | Rec: 0.9585 | Threshold: 0.1754\n",
      "Epoch 004 | Loss: 0.6629 | Val AUC: 0.7407 | F1: 0.7309 | Prec: 0.5980 | Rec: 0.9396 | Threshold: 0.2562\n",
      "Epoch 005 | Loss: 0.6533 | Val AUC: 0.7616 | F1: 0.7405 | Prec: 0.6206 | Rec: 0.9176 | Threshold: 0.3332\n",
      "Epoch 006 | Loss: 0.6419 | Val AUC: 0.7697 | F1: 0.7418 | Prec: 0.6263 | Rec: 0.9096 | Threshold: 0.3964\n",
      "Epoch 007 | Loss: 0.6333 | Val AUC: 0.7867 | F1: 0.7518 | Prec: 0.6357 | Rec: 0.9197 | Threshold: 0.4431\n",
      "Epoch 008 | Loss: 0.6221 | Val AUC: 0.7975 | F1: 0.7561 | Prec: 0.6470 | Rec: 0.9096 | Threshold: 0.4979\n",
      "Epoch 009 | Loss: 0.6136 | Val AUC: 0.8076 | F1: 0.7632 | Prec: 0.6534 | Rec: 0.9173 | Threshold: 0.5327\n",
      "Epoch 010 | Loss: 0.6048 | Val AUC: 0.8187 | F1: 0.7699 | Prec: 0.6665 | Rec: 0.9113 | Threshold: 0.5674\n",
      "Epoch 011 | Loss: 0.5955 | Val AUC: 0.8318 | F1: 0.7744 | Prec: 0.6715 | Rec: 0.9146 | Threshold: 0.5877\n",
      "Epoch 012 | Loss: 0.5880 | Val AUC: 0.8440 | F1: 0.7847 | Prec: 0.6973 | Rec: 0.8972 | Threshold: 0.6135\n",
      "Epoch 013 | Loss: 0.5754 | Val AUC: 0.8596 | F1: 0.7943 | Prec: 0.7187 | Rec: 0.8878 | Threshold: 0.6257\n",
      "Epoch 014 | Loss: 0.5690 | Val AUC: 0.8795 | F1: 0.8086 | Prec: 0.7576 | Rec: 0.8669 | Threshold: 0.6371\n",
      "Epoch 015 | Loss: 0.5637 | Val AUC: 0.8953 | F1: 0.8250 | Prec: 0.7606 | Rec: 0.9014 | Threshold: 0.6009\n",
      "Epoch 016 | Loss: 0.5538 | Val AUC: 0.9106 | F1: 0.8391 | Prec: 0.7797 | Rec: 0.9083 | Threshold: 0.5790\n",
      "Epoch 017 | Loss: 0.5440 | Val AUC: 0.9315 | F1: 0.8606 | Prec: 0.8138 | Rec: 0.9131 | Threshold: 0.5549\n",
      "Epoch 018 | Loss: 0.5382 | Val AUC: 0.9458 | F1: 0.8778 | Prec: 0.8518 | Rec: 0.9056 | Threshold: 0.5379\n",
      "Epoch 019 | Loss: 0.5273 | Val AUC: 0.9607 | F1: 0.8967 | Prec: 0.8599 | Rec: 0.9367 | Threshold: 0.4851\n",
      "Epoch 020 | Loss: 0.5170 | Val AUC: 0.9714 | F1: 0.9143 | Prec: 0.8782 | Rec: 0.9536 | Threshold: 0.4425\n",
      "Epoch 021 | Loss: 0.5098 | Val AUC: 0.9796 | F1: 0.9305 | Prec: 0.9057 | Rec: 0.9566 | Threshold: 0.4143\n",
      "Epoch 022 | Loss: 0.4998 | Val AUC: 0.9854 | F1: 0.9430 | Prec: 0.9262 | Rec: 0.9604 | Threshold: 0.3878\n",
      "Epoch 023 | Loss: 0.4891 | Val AUC: 0.9899 | F1: 0.9549 | Prec: 0.9383 | Rec: 0.9720 | Threshold: 0.3532\n",
      "Epoch 024 | Loss: 0.4805 | Val AUC: 0.9927 | F1: 0.9643 | Prec: 0.9498 | Rec: 0.9791 | Threshold: 0.3225\n",
      "Epoch 025 | Loss: 0.4701 | Val AUC: 0.9949 | F1: 0.9709 | Prec: 0.9641 | Rec: 0.9778 | Threshold: 0.3080\n",
      "Epoch 026 | Loss: 0.4604 | Val AUC: 0.9958 | F1: 0.9736 | Prec: 0.9588 | Rec: 0.9888 | Threshold: 0.2642\n",
      "Epoch 027 | Loss: 0.4507 | Val AUC: 0.9971 | F1: 0.9796 | Prec: 0.9703 | Rec: 0.9891 | Threshold: 0.2494\n",
      "Epoch 028 | Loss: 0.4379 | Val AUC: 0.9979 | F1: 0.9831 | Prec: 0.9787 | Rec: 0.9874 | Threshold: 0.2449\n",
      "Epoch 029 | Loss: 0.4266 | Val AUC: 0.9976 | F1: 0.9823 | Prec: 0.9732 | Rec: 0.9916 | Threshold: 0.2167\n",
      "Epoch 030 | Loss: 0.4155 | Val AUC: 0.9983 | F1: 0.9850 | Prec: 0.9790 | Rec: 0.9911 | Threshold: 0.2151\n",
      "Epoch 031 | Loss: 0.4063 | Val AUC: 0.9984 | F1: 0.9864 | Prec: 0.9819 | Rec: 0.9910 | Threshold: 0.2129\n",
      "Epoch 032 | Loss: 0.3971 | Val AUC: 0.9989 | F1: 0.9880 | Prec: 0.9835 | Rec: 0.9925 | Threshold: 0.2034\n",
      "Epoch 033 | Loss: 0.3854 | Val AUC: 0.9988 | F1: 0.9886 | Prec: 0.9832 | Rec: 0.9941 | Threshold: 0.1848\n",
      "Epoch 034 | Loss: 0.3718 | Val AUC: 0.9989 | F1: 0.9888 | Prec: 0.9846 | Rec: 0.9931 | Threshold: 0.1987\n",
      "Epoch 035 | Loss: 0.3632 | Val AUC: 0.9987 | F1: 0.9880 | Prec: 0.9817 | Rec: 0.9943 | Threshold: 0.1778\n",
      "Epoch 036 | Loss: 0.3533 | Val AUC: 0.9990 | F1: 0.9893 | Prec: 0.9860 | Rec: 0.9927 | Threshold: 0.1917\n",
      "Epoch 037 | Loss: 0.3402 | Val AUC: 0.9990 | F1: 0.9896 | Prec: 0.9842 | Rec: 0.9950 | Threshold: 0.1676\n",
      "Epoch 038 | Loss: 0.3306 | Val AUC: 0.9990 | F1: 0.9891 | Prec: 0.9848 | Rec: 0.9935 | Threshold: 0.1876\n",
      "Epoch 039 | Loss: 0.3193 | Val AUC: 0.9989 | F1: 0.9891 | Prec: 0.9849 | Rec: 0.9933 | Threshold: 0.1950\n",
      "Epoch 040 | Loss: 0.3112 | Val AUC: 0.9989 | F1: 0.9891 | Prec: 0.9848 | Rec: 0.9935 | Threshold: 0.1912\n",
      "Epoch 041 | Loss: 0.2984 | Val AUC: 0.9989 | F1: 0.9896 | Prec: 0.9858 | Rec: 0.9935 | Threshold: 0.1977\n",
      "Epoch 042 | Loss: 0.2893 | Val AUC: 0.9991 | F1: 0.9893 | Prec: 0.9834 | Rec: 0.9953 | Threshold: 0.1719\n",
      "Epoch 043 | Loss: 0.2792 | Val AUC: 0.9992 | F1: 0.9896 | Prec: 0.9843 | Rec: 0.9949 | Threshold: 0.1820\n",
      "Epoch 044 | Loss: 0.2707 | Val AUC: 0.9988 | F1: 0.9895 | Prec: 0.9849 | Rec: 0.9942 | Threshold: 0.1930\n",
      "Epoch 045 | Loss: 0.2666 | Val AUC: 0.9992 | F1: 0.9899 | Prec: 0.9856 | Rec: 0.9943 | Threshold: 0.1982\n",
      "Epoch 046 | Loss: 0.2600 | Val AUC: 0.9991 | F1: 0.9906 | Prec: 0.9868 | Rec: 0.9943 | Threshold: 0.2017\n",
      "Epoch 047 | Loss: 0.2559 | Val AUC: 0.9992 | F1: 0.9906 | Prec: 0.9849 | Rec: 0.9963 | Threshold: 0.1616\n",
      "Epoch 048 | Loss: 0.2481 | Val AUC: 0.9990 | F1: 0.9900 | Prec: 0.9880 | Rec: 0.9919 | Threshold: 0.2483\n",
      "Epoch 049 | Loss: 0.2471 | Val AUC: 0.9990 | F1: 0.9901 | Prec: 0.9880 | Rec: 0.9921 | Threshold: 0.2503\n",
      "Epoch 050 | Loss: 0.2415 | Val AUC: 0.9992 | F1: 0.9912 | Prec: 0.9882 | Rec: 0.9941 | Threshold: 0.2139\n"
     ]
    }
   ],
   "source": [
    "# Initialize tracking\n",
    "epochs_list = []\n",
    "losses_list = []\n",
    "aucs_list = []\n",
    "f1s_list = []\n",
    "precisions_list = []\n",
    "recalls_list = []\n",
    "thresholds_list = []\n",
    "\n",
    "best_f1 = 0.0\n",
    "patience = 0\n",
    "epoches = 50\n",
    "# Training loop\n",
    "for epoch in range(1, epoches + 1):\n",
    "    loss = train_epoch(train_data)\n",
    "    val_metrics = evaluate(val_data)\n",
    "    scheduler.step(val_metrics['f1'])\n",
    "    \n",
    "    # Log metrics\n",
    "    epochs_list.append(epoch)\n",
    "    losses_list.append(loss)\n",
    "    aucs_list.append(val_metrics['auc'])\n",
    "    f1s_list.append(val_metrics['f1'])\n",
    "    precisions_list.append(val_metrics['precision'])\n",
    "    recalls_list.append(val_metrics['recall'])\n",
    "    thresholds_list.append(val_metrics['threshold'])\n",
    "    \n",
    "    # Print metrics\n",
    "    print(f\"Epoch {epoch:03d} | Loss: {loss:.4f} | \"\n",
    "          f\"Val AUC: {val_metrics['auc']:.4f} | F1: {val_metrics['f1']:.4f} | \"\n",
    "          f\"Prec: {val_metrics['precision']:.4f} | Rec: {val_metrics['recall']:.4f} | \"\n",
    "          f\"Threshold: {val_metrics['threshold']:.4f}\")\n",
    "    \n",
    "    # Early stopping\n",
    "    if val_metrics['f1'] > best_f1:\n",
    "        best_f1 = val_metrics['f1']\n",
    "        torch.save(gnn.state_dict(), GNN_MODEL_SAVE_PATH)\n",
    "        torch.save(predictor.state_dict(), PREDICTOR_MODEL_SAVE_PATH)\n",
    "        patience = 0\n",
    "    else:\n",
    "        patience += 1\n",
    "        if patience >= 20:\n",
    "            print(\"Early stopping triggered.\")\n",
    "            break"
   ]
  },
  {
   "cell_type": "markdown",
   "id": "80b5c8ea",
   "metadata": {},
   "source": [
    "# 📊 8. Model Evaluation and Visualization"
   ]
  },
  {
   "cell_type": "code",
   "execution_count": 16,
   "id": "f20b96a6",
   "metadata": {},
   "outputs": [
    {
     "data": {
      "image/png": "[encoded data removed]",
      "text/plain": [
       "<Figure size 1200x800 with 4 Axes>"
      ]
     },
     "metadata": {},
     "output_type": "display_data"
    }
   ],
   "source": [
    "import matplotlib.pyplot as plt\n",
    "\n",
    "# Plot training metrics\n",
    "plt.figure(figsize=(12, 8))\n",
    "\n",
    "# Loss\n",
    "plt.subplot(2, 2, 1)\n",
    "plt.plot(epochs_list, losses_list, label=\"Train Loss\", color='red')\n",
    "plt.title(\"Training Loss\")\n",
    "plt.xlabel(\"Epoch\")\n",
    "plt.ylabel(\"Loss\")\n",
    "plt.grid(True)\n",
    "\n",
    "# AUC\n",
    "plt.subplot(2, 2, 2)\n",
    "plt.plot(epochs_list, aucs_list, label=\"Val AUC\", color='green')\n",
    "plt.title(\"Validation AUC\")\n",
    "plt.xlabel(\"Epoch\")\n",
    "plt.ylabel(\"AUC\")\n",
    "plt.grid(True)\n",
    "\n",
    "# F1 Score\n",
    "plt.subplot(2, 2, 3)\n",
    "plt.plot(epochs_list, f1s_list, label=\"Val F1\", color='blue')\n",
    "plt.title(\"Validation F1 Score\")\n",
    "plt.xlabel(\"Epoch\")\n",
    "plt.ylabel(\"F1\")\n",
    "plt.grid(True)\n",
    "\n",
    "# Precision & Recall\n",
    "plt.subplot(2, 2, 4)\n",
    "plt.plot(epochs_list, precisions_list, label=\"Precision\", color='orange')\n",
    "plt.plot(epochs_list, recalls_list, label=\"Recall\", color='purple')\n",
    "plt.title(\"Precision & Recall\")\n",
    "plt.xlabel(\"Epoch\")\n",
    "plt.ylabel(\"Score\")\n",
    "plt.legend()\n",
    "plt.grid(True)\n",
    "\n",
    "plt.tight_layout()\n",
    "plt.savefig(IMAGES_DIR)\n",
    "plt.savefig(os.path.join(IMAGES_DIR, 'model_evaluation.png'))\n",
    "plt.show()"
   ]
  },
  {
   "cell_type": "code",
   "execution_count": 17,
   "id": "e80631d6",
   "metadata": {},
   "outputs": [
    {
     "name": "stdout",
     "output_type": "stream",
     "text": [
      "\n",
      "Test Metrics:\n",
      "AUC: 0.9986 | F1: 0.9886\n",
      "Precision: 0.9835 | Recall: 0.9937\n",
      "Threshold: 0.2139\n"
     ]
    },
    {
     "data": {
      "text/plain": [
       "<Figure size 800x600 with 0 Axes>"
      ]
     },
     "metadata": {},
     "output_type": "display_data"
    },
    {
     "data": {
      "image/png": "[encoded data removed]",
      "text/plain": [
       "<Figure size 800x600 with 1 Axes>"
      ]
     },
     "metadata": {},
     "output_type": "display_data"
    },
    {
     "name": "stdout",
     "output_type": "stream",
     "text": [
      "Final Test Results: {'auc': np.float64(0.9986218934911242), 'precision': np.float64(0.9835039336773539), 'recall': np.float64(0.9936752136752137), 'f1': np.float64(0.988563406419715), 'threshold': np.float32(0.21389852)}\n"
     ]
    }
   ],
   "source": [
    "@torch.no_grad()\n",
    "def test_model():\n",
    "    gnn.load_state_dict(torch.load(GNN_MODEL_SAVE_PATH, map_location=device))\n",
    "    predictor.load_state_dict(torch.load(PREDICTOR_MODEL_SAVE_PATH, map_location=device))\n",
    "    test_metrics = evaluate(test_data)\n",
    "    \n",
    "    print(\"\\nTest Metrics:\")\n",
    "    print(f\"AUC: {test_metrics['auc']:.4f} | F1: {test_metrics['f1']:.4f}\")\n",
    "    print(f\"Precision: {test_metrics['precision']:.4f} | Recall: {test_metrics['recall']:.4f}\")\n",
    "    print(f\"Threshold: {test_metrics['threshold']:.4f}\")\n",
    "    \n",
    "    # Plot PR Curve\n",
    "    plt.figure(figsize=(8, 6))\n",
    "    emb = gnn(test_data.x_dict, test_data.edge_index_dict)\n",
    "    edge_index = test_data['user', 'rates', 'item'].edge_index\n",
    "    pos_pred = predictor(emb['user'][edge_index[0]], emb['item'][edge_index[1]])\n",
    "    pos_labels = torch.ones(len(pos_pred))\n",
    "    \n",
    "    neg_src, neg_dst = [], []\n",
    "    for u in edge_index[0].unique().cpu().tolist():\n",
    "        seen = edge_index[1][edge_index[0] == u]\n",
    "        candidates = torch.randint(0, num_items, (len(seen)*5,), device=seen.device)\n",
    "        valid = ~torch.isin(candidates, seen)\n",
    "        sampled = candidates[valid][:len(seen)]\n",
    "        if len(sampled) > 0:\n",
    "            neg_src.append(torch.tensor([u]*len(sampled), device=device))\n",
    "            neg_dst.append(sampled)\n",
    "    \n",
    "    if neg_src:\n",
    "        neg_pred = predictor(\n",
    "            emb['user'][torch.cat(neg_src)],\n",
    "            emb['item'][torch.cat(neg_dst)]\n",
    "        )\n",
    "        neg_labels = torch.zeros(len(neg_pred))\n",
    "        scores = torch.cat([pos_pred, neg_pred]).cpu().numpy()\n",
    "        labels = torch.cat([pos_labels, neg_labels]).cpu().numpy()\n",
    "        \n",
    "        # PR Curve\n",
    "        precisions, recalls, thresholds = precision_recall_curve(labels, scores)\n",
    "        f1_scores = 2 * (precisions * recalls) / (precisions + recalls + 1e-8)\n",
    "        best_idx = np.argmax(f1_scores)\n",
    "        \n",
    "        # Plot\n",
    "        plt.figure(figsize=(8, 6))\n",
    "        plt.plot(recalls, precisions, label=f'PR Curve (AUC={auc(recalls, precisions):.4f})')\n",
    "        plt.plot([test_metrics['recall']], [test_metrics['precision']], \n",
    "                'ro', markersize=10, label='Best F1 Threshold')\n",
    "        plt.xlabel('Recall')\n",
    "        plt.ylabel('Precision')\n",
    "        plt.title(\"Precision-Recall Curve on Test Set\")\n",
    "        plt.legend()\n",
    "        plt.grid(True)\n",
    "        plt.savefig(os.path.join(IMAGES_DIR, 'pr_curve_test.png'))\n",
    "        plt.show()\n",
    "    \n",
    "    return test_metrics\n",
    "\n",
    "# Run final evaluation\n",
    "test_results = test_model()\n",
    "print(f\"Final Test Results: {test_results}\")"
   ]
  },
  {
   "cell_type": "code",
   "execution_count": 18,
   "id": "13cc71be",
   "metadata": {},
   "outputs": [
    {
     "data": {
      "image/png": "[encoded data removed]",
      "text/plain": [
       "<Figure size 800x500 with 1 Axes>"
      ]
     },
     "metadata": {},
     "output_type": "display_data"
    }
   ],
   "source": [
    "# Plot threshold evolution\n",
    "plt.figure(figsize=(8, 5))\n",
    "plt.plot(epochs_list, thresholds_list, label=\"Optimal Threshold\", color='green')\n",
    "plt.axhline(y=0.5, color='gray', linestyle='--', label=\"Default Threshold\")\n",
    "plt.title(\"Threshold Calibration Over Training\")\n",
    "plt.xlabel(\"Epoch\")\n",
    "plt.ylabel(\"Threshold\")\n",
    "plt.legend()\n",
    "plt.grid(True)\n",
    "plt.savefig(IMAGES_DIR)\n",
    "plt.savefig(os.path.join(IMAGES_DIR, 'threhold_plot.png'))\n",
    "plt.show()"
   ]
  },
  {
   "cell_type": "code",
   "execution_count": 19,
   "id": "31883bf6",
   "metadata": {},
   "outputs": [
    {
     "data": {
      "text/plain": [
       "['/home/abdalrhman/Desktop/Graduation Project/AiStore/Recommender_V2/artifacts/meta_df_clean.pkl']"
      ]
     },
     "execution_count": 19,
     "metadata": {},
     "output_type": "execute_result"
    }
   ],
   "source": [
    "# Save models\n",
    "torch.save(gnn.state_dict(), GNN_MODEL_SAVE_PATH)\n",
    "torch.save(predictor.state_dict(), PREDICTOR_MODEL_SAVE_PATH)\n",
    "\n",
    "# Save preprocessor and feature encoders\n",
    "cat_encoder = preprocessor.named_transformers_['cat'].named_steps['encoder']\n",
    "num_scaler = preprocessor.named_transformers_['num'].named_steps['scaler']\n",
    "joblib.dump(cat_encoder, ENCODER_CATEGORY)\n",
    "joblib.dump(num_scaler, ENCODER_SCALER)\n",
    "joblib.dump(meta_df_clean, CLEANED_META_DATA_PATH)"
   ]
  },
  {
   "cell_type": "code",
   "execution_count": 20,
   "id": "d7c70e5e",
   "metadata": {},
   "outputs": [
    {
     "data": {
      "text/plain": [
       "HeteroData(\n",
       "  user={ x=[12890, 64] },\n",
       "  item={ x=[10498, 64] },\n",
       "  (user, rates, item)={\n",
       "    edge_index=[2, 13000],\n",
       "    edge_weight=[13000],\n",
       "  },\n",
       "  (item, rev_rates, user)={\n",
       "    edge_index=[2, 13000],\n",
       "    edge_weight=[13000],\n",
       "  }\n",
       ")"
      ]
     },
     "execution_count": 20,
     "metadata": {},
     "output_type": "execute_result"
    }
   ],
   "source": [
    "data"
   ]
  },
  {
   "cell_type": "code",
   "execution_count": 21,
   "id": "35b546be",
   "metadata": {},
   "outputs": [
    {
     "data": {
      "text/plain": [
       "HeteroData(\n",
       "  user={ x=[12890, 64] },\n",
       "  item={ x=[10498, 64] },\n",
       "  (user, rates, item)={\n",
       "    edge_index=[2, 10400],\n",
       "    edge_weight=[10400],\n",
       "    edge_label=[10400],\n",
       "    edge_label_index=[2, 10400],\n",
       "  },\n",
       "  (item, rev_rates, user)={\n",
       "    edge_index=[2, 10400],\n",
       "    edge_weight=[10400],\n",
       "  }\n",
       ")"
      ]
     },
     "execution_count": 21,
     "metadata": {},
     "output_type": "execute_result"
    }
   ],
   "source": [
    "train_data"
   ]
  },
  {
   "cell_type": "code",
   "execution_count": 22,
   "id": "5bd7c224",
   "metadata": {},
   "outputs": [
    {
     "data": {
      "text/plain": [
       "HeteroData(\n",
       "  user={ x=[12890, 64] },\n",
       "  item={ x=[10498, 64] },\n",
       "  (user, rates, item)={\n",
       "    edge_index=[2, 10400],\n",
       "    edge_weight=[10400],\n",
       "    edge_label=[2600],\n",
       "    edge_label_index=[2, 2600],\n",
       "  },\n",
       "  (item, rev_rates, user)={\n",
       "    edge_index=[2, 10400],\n",
       "    edge_weight=[10400],\n",
       "  }\n",
       ")"
      ]
     },
     "execution_count": 22,
     "metadata": {},
     "output_type": "execute_result"
    }
   ],
   "source": [
    "val_data"
   ]
  },
  {
   "cell_type": "code",
   "execution_count": 23,
   "id": "db72d8b7",
   "metadata": {},
   "outputs": [
    {
     "data": {
      "text/plain": [
       "HeteroData(\n",
       "  user={ x=[12890, 64] },\n",
       "  item={ x=[10498, 64] },\n",
       "  (user, rates, item)={\n",
       "    edge_index=[2, 11700],\n",
       "    edge_weight=[11700],\n",
       "    edge_label=[2600],\n",
       "    edge_label_index=[2, 2600],\n",
       "  },\n",
       "  (item, rev_rates, user)={\n",
       "    edge_index=[2, 11700],\n",
       "    edge_weight=[11700],\n",
       "  }\n",
       ")"
      ]
     },
     "execution_count": 23,
     "metadata": {},
     "output_type": "execute_result"
    }
   ],
   "source": [
    "test_data"
   ]
  },
  {
   "cell_type": "markdown",
   "id": "807420de",
   "metadata": {},
   "source": [
    "# ✅ Final Recommender Function with Real ASINs"
   ]
  },
  {
   "cell_type": "code",
   "execution_count": 24,
   "id": "b0fa1e70",
   "metadata": {},
   "outputs": [
    {
     "ename": "NameError",
     "evalue": "name 'REVERSED_MAPPING_ITEM' is not defined",
     "output_type": "error",
     "traceback": [
      "\u001b[31m---------------------------------------------------------------------------\u001b[39m",
      "\u001b[31mNameError\u001b[39m                                 Traceback (most recent call last)",
      "\u001b[36mCell\u001b[39m\u001b[36m \u001b[39m\u001b[32mIn[24]\u001b[39m\u001b[32m, line 25\u001b[39m\n\u001b[32m     18\u001b[39m     \u001b[38;5;28;01mreturn\u001b[39;00m {\n\u001b[32m     19\u001b[39m         \u001b[33m'\u001b[39m\u001b[33muser_id_map\u001b[39m\u001b[33m'\u001b[39m: {\u001b[38;5;28mstr\u001b[39m(k): \u001b[38;5;28mint\u001b[39m(v) \u001b[38;5;28;01mfor\u001b[39;00m k, v \u001b[38;5;129;01min\u001b[39;00m user_id_map.items()},\n\u001b[32m     20\u001b[39m         \u001b[33m'\u001b[39m\u001b[33mitem_id_map\u001b[39m\u001b[33m'\u001b[39m: {\u001b[38;5;28mstr\u001b[39m(k): \u001b[38;5;28mint\u001b[39m(v) \u001b[38;5;28;01mfor\u001b[39;00m k, v \u001b[38;5;129;01min\u001b[39;00m item_id_map.items()},\n\u001b[32m     21\u001b[39m         \u001b[33m'\u001b[39m\u001b[33mid_to_item\u001b[39m\u001b[33m'\u001b[39m: {\u001b[38;5;28mint\u001b[39m(k): \u001b[38;5;28mstr\u001b[39m(v) \u001b[38;5;28;01mfor\u001b[39;00m k, v \u001b[38;5;129;01min\u001b[39;00m id_to_item.items()}\n\u001b[32m     22\u001b[39m     }\n\u001b[32m     24\u001b[39m \u001b[38;5;66;03m# Load mappings\u001b[39;00m\n\u001b[32m---> \u001b[39m\u001b[32m25\u001b[39m mappings = \u001b[43mload_mappings\u001b[49m\u001b[43m(\u001b[49m\u001b[43m)\u001b[49m\n\u001b[32m     26\u001b[39m user_id_map = mappings[\u001b[33m'\u001b[39m\u001b[33muser_id_map\u001b[39m\u001b[33m'\u001b[39m]\n\u001b[32m     27\u001b[39m item_id_map = mappings[\u001b[33m'\u001b[39m\u001b[33mitem_id_map\u001b[39m\u001b[33m'\u001b[39m]\n",
      "\u001b[36mCell\u001b[39m\u001b[36m \u001b[39m\u001b[32mIn[24]\u001b[39m\u001b[32m, line 3\u001b[39m, in \u001b[36mload_mappings\u001b[39m\u001b[34m()\u001b[39m\n\u001b[32m      1\u001b[39m \u001b[38;5;28;01mdef\u001b[39;00m\u001b[38;5;250m \u001b[39m\u001b[34mload_mappings\u001b[39m():\n\u001b[32m      2\u001b[39m     \u001b[38;5;66;03m# Verify files exist\u001b[39;00m\n\u001b[32m----> \u001b[39m\u001b[32m3\u001b[39m     \u001b[38;5;28;01mfor\u001b[39;00m path \u001b[38;5;129;01min\u001b[39;00m [MAPPING_USER_T0_ID_PATH, MAPPING_ITEM_ASIN_TO_ID_PATH, \u001b[43mREVERSED_MAPPING_ITEM\u001b[49m]:\n\u001b[32m      4\u001b[39m         \u001b[38;5;28;01mif\u001b[39;00m \u001b[38;5;129;01mnot\u001b[39;00m os.path.exists(path):\n\u001b[32m      5\u001b[39m             \u001b[38;5;28;01mraise\u001b[39;00m \u001b[38;5;167;01mFileNotFoundError\u001b[39;00m(\u001b[33mf\u001b[39m\u001b[33m\"\u001b[39m\u001b[33mMapping file not found: \u001b[39m\u001b[38;5;132;01m{\u001b[39;00mpath\u001b[38;5;132;01m}\u001b[39;00m\u001b[33m\"\u001b[39m)\n",
      "\u001b[31mNameError\u001b[39m: name 'REVERSED_MAPPING_ITEM' is not defined"
     ]
    }
   ],
   "source": [
    "def load_mappings():\n",
    "    # Verify files exist\n",
    "    for path in [MAPPING_USER_T0_ID_PATH, MAPPING_ITEM_ASIN_TO_ID_PATH, REVERSED_MAPPING_ITEM]:\n",
    "        if not os.path.exists(path):\n",
    "            raise FileNotFoundError(f\"Mapping file not found: {path}\")\n",
    "    \n",
    "    # Load mappings\n",
    "    with open(MAPPING_USER_T0_ID_PATH, 'r') as f:\n",
    "        user_id_map = json.load(f)\n",
    "    \n",
    "    with open(MAPPING_ITEM_ASIN_TO_ID_PATH, 'r') as f:\n",
    "        item_id_map = json.load(f)\n",
    "    \n",
    "    with open(MAPPIN_ID_TO_ASIN_ITEM_PATH, 'r') as f:\n",
    "        id_to_item = json.load(f)\n",
    "    \n",
    "    # Convert keys to correct types\n",
    "    return {\n",
    "        'user_id_map': {str(k): int(v) for k, v in user_id_map.items()},\n",
    "        'item_id_map': {str(k): int(v) for k, v in item_id_map.items()},\n",
    "        'id_to_item': {int(k): str(v) for k, v in id_to_item.items()}\n",
    "    }\n",
    "\n",
    "# Load mappings\n",
    "mappings = load_mappings()\n",
    "user_id_map = mappings['user_id_map']\n",
    "item_id_map = mappings['item_id_map']\n",
    "id_to_item = mappings['id_to_item']\n",
    "user_id_map"
   ]
  },
  {
   "cell_type": "code",
   "execution_count": null,
   "id": "90fcef04",
   "metadata": {},
   "outputs": [],
   "source": [
    "# Load full graph\n",
    "full_data = torch.load(GRAPH_FULL_PATH, weights_only=False, map_location=device)\n",
    "\n",
    "# Load trained models\n",
    "gnn = HeteroGraphSAGE(hidden_dim=128).to(device)\n",
    "predictor = LinkPredictor(hidden_dim=128).to(device)\n",
    "\n",
    "gnn.load_state_dict(torch.load(GNN_MODEL_SAVE_PATH, map_location=device))\n",
    "predictor.load_state_dict(torch.load(PREDICTOR_MODEL_SAVE_PATH, map_location=device))"
   ]
  },
  {
   "cell_type": "code",
   "execution_count": null,
   "id": "fbb2530d",
   "metadata": {},
   "outputs": [],
   "source": [
    "@torch.no_grad()\n",
    "def recommend_top_k(user_id, k=5):\n",
    "    \"\"\"\n",
    "    Recommend top-k products for a given user ID\n",
    "    \n",
    "    Args:\n",
    "        user_id (str): Original user ID\n",
    "        k (int): Number of recommendations\n",
    "    \n",
    "    Returns:\n",
    "        list: List of recommended ASINs\n",
    "    \"\"\"\n",
    "    gnn.eval()\n",
    "    predictor.eval()\n",
    "\n",
    "    # Validate user exists\n",
    "    if user_id not in user_id_map:\n",
    "        raise ValueError(f\"User '{user_id}' not found in mapping\")\n",
    "    \n",
    "    user_idx = int(user_id_map[user_id])  # Convert user_id → model index\n",
    "    \n",
    "    # Get embeddings\n",
    "    emb = gnn(full_data.x_dict, full_data.edge_index_dict)\n",
    "    \n",
    "    # Get user embedding and expand for all items\n",
    "    user_emb = emb['user'][user_idx].unsqueeze(0)\n",
    "    item_embs = emb['item']\n",
    "    \n",
    "    # Predict scores\n",
    "    scores = predictor(user_emb.expand(item_embs.size(0), -1), item_embs).cpu().numpy()\n",
    "    \n",
    "    # Exclude already interacted items\n",
    "    edge_index = full_data['user', 'rates', 'item'].edge_index\n",
    "    interacted_items = edge_index[1][edge_index[0] == user_idx].cpu().numpy()\n",
    "    scores[interacted_items] = -np.inf\n",
    "    \n",
    "    # Get top-k item indices\n",
    "    top_k_indices = np.argpartition(scores, -k)[-k:]\n",
    "    top_k_scores = scores[top_k_indices]\n",
    "    top_k_indices = top_k_indices[np.argsort(-top_k_scores)]\n",
    "    \n",
    "    # Map to ASINs\n",
    "    return [id_to_item.get(int(i), None) for i in top_k_indices]"
   ]
  },
  {
   "cell_type": "markdown",
   "id": "75e53e65",
   "metadata": {},
   "source": [
    "# 📦 Example Usage"
   ]
  },
  {
   "cell_type": "code",
   "execution_count": null,
   "id": "ac0659b6",
   "metadata": {},
   "outputs": [],
   "source": [
    "try:\n",
    "    recommendations = recommend_top_k('AFCO6LEANZBTDWKI4BH6BO7H4PIA', k=5)\n",
    "    print(\"Recommended ASINs:\", recommendations)\n",
    "except ValueError as e:\n",
    "    print(e)"
   ]
  },
  {
   "cell_type": "code",
   "execution_count": null,
   "id": "543969be",
   "metadata": {},
   "outputs": [],
   "source": [
    "def recommend_with_metadata(user_id, k=5):\n",
    "    recommended = recommend_top_k(user_id, k=k)\n",
    "    return meta_df[meta_df['parent_asin'].isin(recommended)][[\n",
    "        'parent_asin', 'title', 'price', 'average_rating', 'main_category'\n",
    "    ]].to_dict(orient='records')"
   ]
  },
  {
   "cell_type": "code",
   "execution_count": null,
   "id": "d5a7be83",
   "metadata": {},
   "outputs": [],
   "source": [
    "recommended = recommend_top_k('AFCO6LEANZBTDWKI4BH6BO7H4PIA', k=1000)\n",
    "print(\"Raw Recommended ASINs:\", recommended)"
   ]
  },
  {
   "cell_type": "markdown",
   "id": "ff281208",
   "metadata": {},
   "source": [
    "# ✅ Load `meta_df_clean`"
   ]
  },
  {
   "cell_type": "code",
   "execution_count": null,
   "id": "f3c35d03",
   "metadata": {},
   "outputs": [],
   "source": [
    "# Load original meta_df\n",
    "meta_df = pd.read_csv(META_DATA_PATH)\n",
    "\n",
    "# Reapply filtering and deduplication\n",
    "filtered_item_ids = reviews_df['parent_asin'].unique()\n",
    "meta_df_clean = meta_df[meta_df['parent_asin'].isin(filtered_item_ids)].drop_duplicates('parent_asin')\n",
    "\n",
    "# Save as CSV (recommended for safety)\n",
    "# meta_df_clean.to_csv(CLEANED_META_DATA_PATH, index=False)\n",
    "\n",
    "# Or save as pickle (ensure binary mode)\n",
    "meta_df_clean.to_pickle(CLEANED_META_DATA_PATH)\n",
    "loaded_meta_df_clean = pd.read_pickle(CLEANED_META_DATA_PATH)\n",
    "loaded_meta_df_clean"
   ]
  },
  {
   "cell_type": "code",
   "execution_count": null,
   "id": "717c61a2",
   "metadata": {},
   "outputs": [],
   "source": [
    "# Only keep ASINs that exist in meta_df_clean\n",
    "valid_recommended = [asin for asin in recommended if asin in meta_df_clean['parent_asin'].values]\n",
    "\n",
    "print(f\"Valid ASINs found in meta_df_clean: {valid_recommended}\")"
   ]
  },
  {
   "cell_type": "code",
   "execution_count": null,
   "id": "fb9021e7",
   "metadata": {},
   "outputs": [],
   "source": [
    "# Filter meta_df_clean to only include valid ASINs\n",
    "recommended_products = loaded_meta_df_clean[loaded_meta_df_clean['parent_asin'].isin(valid_recommended)]\n",
    "\n",
    "# Add a custom sort order based on original recommendation\n",
    "recommended_products['asin_order'] = pd.Categorical(\n",
    "    recommended_products['parent_asin'], \n",
    "    categories=valid_recommended,\n",
    "    ordered=True\n",
    ")\n",
    "\n",
    "# Sort by recommendation order\n",
    "recommended_products = recommended_products.sort_values('asin_order').drop('asin_order', axis=1)"
   ]
  },
  {
   "cell_type": "code",
   "execution_count": null,
   "id": "7162b564",
   "metadata": {},
   "outputs": [],
   "source": [
    "# Show important product info\n",
    "recommended_products[[\n",
    "    'parent_asin', 'title', 'price', 'average_rating', \n",
    "    'main_category', 'brand', 'color'\n",
    "]]"
   ]
  },
  {
   "cell_type": "code",
   "execution_count": null,
   "id": "32611027",
   "metadata": {},
   "outputs": [],
   "source": [
    "product_list = recommended_products.to_dict(orient='records')\n",
    "\n",
    "for p in product_list:\n",
    "    print(f\"ASIN: {p['parent_asin']}\")\n",
    "    print(f\"Title: {p['title']}\")\n",
    "    print(f\"Price: ${p['price']}\")\n",
    "    print(f\"Rating: {p['average_rating']} ({p['rating_number']} reviews)\")\n",
    "    print(f\"Category: {p['main_category']}\")\n",
    "    print(f\"Brand: {p['brand']}\")\n",
    "    print(\"-\" * 40)"
   ]
  },
  {
   "cell_type": "code",
   "execution_count": null,
   "id": "38b99147",
   "metadata": {},
   "outputs": [],
   "source": [
    "def get_recommended_products(recommended, meta_df_clean):\n",
    "    \"\"\"\n",
    "    Safely filter and reorder meta_df_clean based on recommended ASINs.\n",
    "    \n",
    "    Args:\n",
    "        recommended (list): List of ASINs from recommendation system\n",
    "        meta_df_clean (pd.DataFrame): Cleaned metadata with item features\n",
    "    \n",
    "    Returns:\n",
    "        pd.DataFrame: Filtered and ordered DataFrame with product details\n",
    "    \"\"\"\n",
    "    # Step 1: Filter only valid ASINs that exist in meta_df_clean\n",
    "    valid_recommended = [asin for asin in recommended if asin in meta_df_clean['parent_asin'].values]\n",
    "    \n",
    "    # Step 2: Filter meta_df_clean for matching ASINs\n",
    "    filtered = meta_df_clean[meta_df_clean['parent_asin'].isin(valid_recommended)]\n",
    "    \n",
    "    # Step 3: Reorder to match recommendation order\n",
    "    filtered['asin_order'] = pd.Categorical(\n",
    "        filtered['parent_asin'], \n",
    "        categories=valid_recommended,\n",
    "        ordered=True\n",
    "    )\n",
    "    return filtered.sort_values('asin_order').drop('asin_order', axis=1)\n",
    "\n",
    "# Example usage\n",
    "recommended_products = get_recommended_products(recommended, loaded_meta_df_clean)\n",
    "recommended_products[['parent_asin', 'title', 'price', 'average_rating', 'main_category']]"
   ]
  },
  {
   "cell_type": "code",
   "execution_count": null,
   "id": "f1ba60d5",
   "metadata": {},
   "outputs": [],
   "source": []
  },
  {
   "cell_type": "code",
   "execution_count": null,
   "id": "c177b6f4",
   "metadata": {},
   "outputs": [],
   "source": []
  },
  {
   "cell_type": "code",
   "execution_count": null,
   "id": "65384767",
   "metadata": {},
   "outputs": [],
   "source": []
  }
 ],
 "metadata": {
  "kernelspec": {
   "display_name": "venv",
   "language": "python",
   "name": "python3"
  },
  "language_info": {
   "codemirror_mode": {
    "name": "ipython",
    "version": 3
   },
   "file_extension": ".py",
   "mimetype": "text/x-python",
   "name": "python",
   "nbconvert_exporter": "python",
   "pygments_lexer": "ipython3",
   "version": "3.12.7"
  }
 },
 "nbformat": 4,
 "nbformat_minor": 5
}
